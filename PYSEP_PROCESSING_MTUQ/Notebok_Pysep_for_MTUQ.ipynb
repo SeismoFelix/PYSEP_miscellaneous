{
 "cells": [
  {
   "cell_type": "markdown",
   "id": "a0fdd40b-0eaa-4d5c-8db8-667549953bd8",
   "metadata": {},
   "source": [
    "# Streaming data with Pysep to be used in MTUQ\n",
    "**Félix Rodríguez-Cardozo and Jochen Braunmiller**\n",
    "\n",
    "The following Notebook provides an example for retrieving data from the [FDSN web services](https://www.fdsn.org/webservices/) via [Pysep](https://github.com/adjtomo/pysep) and using it for estimating the seismic moment tensor in [MTUQ](https://github.com/uafgeotools/mtuq).\n",
    "\n",
    "Before running this example, you must have installed [Pysep](https://pysep.readthedocs.io/en/latest/) and [MTUQ](https://uafgeotools.github.io/mtuq/install/index.html) and this notebook had to have been opened **after activating the pysep environment** "
   ]
  },
  {
   "cell_type": "markdown",
   "id": "f0540330-f006-46a1-b03c-204e7bc3c6f8",
   "metadata": {},
   "source": [
    "### 1. Check the examples available in Pysep\n",
    "Pysep includes examples for retrieving and pre-processing data. To see those examples, run the next cell. "
   ]
  },
  {
   "cell_type": "code",
   "execution_count": null,
   "id": "29b5e4c8-00f8-43d8-931b-e13c98ac42da",
   "metadata": {},
   "outputs": [],
   "source": [
    "import os\n",
    "main_dir = os.getcwd()\n",
    "! pysep -l"
   ]
  },
  {
   "cell_type": "markdown",
   "id": "ff7978a9-e5c4-4404-9189-7cea2d956f6e",
   "metadata": {},
   "source": [
    "Those examples have configuration files (*.yaml) ready for streaming and processing data. You can see their content in [Pysep configuration file examples](https://github.com/adjtomo/pysep/tree/master/pysep/configs/mtuq_workshop_2022) "
   ]
  },
  {
   "cell_type": "markdown",
   "id": "5914cac5-1e90-45fb-b5b4-d5ea36df15a3",
   "metadata": {},
   "source": [
    "### 2. Retrieving data for North Korean nuclear test waveforms\n",
    "\n",
    "Pysep can retrieve data ready to use in MTUQ. To do so, the following lines should be added to the configuration file:\n",
    "\n",
    "**_legacy_naming: true**\n",
    "\n",
    "**write_files: inv,event,stream,sac,weights_code**\n",
    "\n",
    "Normally, you can stream and pre-process data from any of the shown examples, such as the North Korean one, by typing in the terminal:\n",
    "\n",
    "**pysep -p mtuq_workshop_2022 -e 2017-09-03T033001_NORTH_KOREA.yaml**\n",
    "\n",
    "However, for streaming and pre-processing the data for running MTUQ, we need to modify yaml files and add the aforementioned lines. The modified configuration file is given with this example. By executing the following cell, Pysep will read the local configuration file and stream and pre-process data for MTUQ. "
   ]
  },
  {
   "cell_type": "code",
   "execution_count": null,
   "id": "9626b422-59b2-4128-9669-7efa548ff386",
   "metadata": {},
   "outputs": [],
   "source": [
    "! pysep -c 2017-09-03T033001_NORTH_KOREA.yaml"
   ]
  },
  {
   "cell_type": "markdown",
   "id": "24686967-2d1e-4fe1-b4cb-8a7d1b255b81",
   "metadata": {},
   "source": [
    "### 3. Check the retrieved data\n",
    "If the data was retrieved successfully in the same directory where  this Notebook resides, you must find the directory **20170903033001760**. \n",
    "\n",
    "By running the next cell, you can explore the directory content:"
   ]
  },
  {
   "cell_type": "code",
   "execution_count": null,
   "id": "5ccb9228-adc6-4397-9444-4b3a6531e425",
   "metadata": {},
   "outputs": [],
   "source": [
    "! ls 20170903033001760"
   ]
  },
  {
   "cell_type": "markdown",
   "id": "ce770ac7-4826-4e38-b8c7-d9a5ff7dfe77",
   "metadata": {},
   "source": [
    "To run MTUQ, the most relevant files are the **SAC** files (such as 20170903033001760.IC.MDJ.00.BH.r) and the **weights.dat**. However, the record_section.png and the station_map.png are very useful for seeing the azimuthal coverage and the quality of the retrieved seismograms. "
   ]
  },
  {
   "cell_type": "markdown",
   "id": "ab94e066-d796-4d0b-80fc-b5c0960505da",
   "metadata": {},
   "source": [
    "Opening the **record_section** file will provide a quick insight into what data should be included in the moment tensor estimation. Use the next cell to see the event record section. "
   ]
  },
  {
   "cell_type": "code",
   "execution_count": null,
   "id": "eb8dc742-54b9-4500-8cea-f20ab853714a",
   "metadata": {},
   "outputs": [],
   "source": [
    "from IPython.display import Image\n",
    "Image(\"20170903033001760/record_section.png\")"
   ]
  },
  {
   "cell_type": "markdown",
   "id": "b5d372e8-24f5-46b7-a0e8-7778d1d1e032",
   "metadata": {},
   "source": [
    "### 4. Running MTUQ with the retrieved data\n",
    "\n",
    "The most important steps for running MTUQ were already  performed by Pysep: (1) Remove the instrumental response, (2) Complete SAC headers with earthquake and station locations,(3) rotate traces to transverse and radial and (4) write the weights.dat file. The latter is the input file that indicates what stations, components, and parts of the seismogram (body, surface waves) will be included in the MTUQ moment tensor estimation. \n",
    "\n",
    "The next step is to run MTUQ. Therefore, you need to change the environment and activate the MTUQ one. This cannot be done in this notebook. Therefore, open a terminal window, go to the directory where this notebook is located, and activate MTUQ (type in the terminal **conda activate mtuq**). If you need it run the next cell to retrieve the location of this notebook in your computer:"
   ]
  },
  {
   "cell_type": "code",
   "execution_count": null,
   "id": "ff7971ce-bdda-4da9-9306-3656428b5d30",
   "metadata": {},
   "outputs": [],
   "source": [
    "import os\n",
    "print(os.getcwd())"
   ]
  },
  {
   "cell_type": "markdown",
   "id": "fbc21766-2026-44ba-a3f9-f2f4ed4cbd7e",
   "metadata": {},
   "source": [
    "#### 4.1 Scripts for running MTUQ\n",
    "\n",
    "This notebook comes with two scripts for running MTUQ:\n",
    "\n",
    "- **GridSearch.DoubleCouple_SW_BW_options.py**: for a double-couple grid-search using body and surface waves.\n",
    "- **GridSearch.FMT_SW_BW_options.py**: for a full moment tensor grid-search using body and surface waves.\n",
    "\n",
    "These scripts stream pre-calculated the Green Functions based on the [ak135](https://ds.iris.edu/ds/products/emc-ak135-f/) velocity model. In addition, the scripts were designed to minimize the modification of the code and hence, the basic seismic source and some of the grid-search parameters can be parsed. "
   ]
  },
  {
   "cell_type": "markdown",
   "id": "26fbec9b-66a2-476e-8758-ba23b5caa6e7",
   "metadata": {},
   "source": [
    "#### 4.2 Double Couple Grid-Search\n",
    "In the terminal where you activated MTUQ, type:\n",
    "\n",
    "***python GridSearch.DoubleCouple_SW_BW_options.py -h***\n",
    "\n",
    "You will see the following menu explaining how to parse the parameters for tunning the moment tensor estimation:"
   ]
  },
  {
   "cell_type": "markdown",
   "id": "8cc2b177-2c9c-4aa0-90ed-8669b86623a1",
   "metadata": {},
   "source": [
    "Input event info run MTUQ\n",
    "\n",
    "optional arguments:\n",
    "  -h, --help    show this help message and exit\n",
    "  \n",
    "  -event EVENT  Event ID (event directory must be in main dir): -event 20140823183304000 \n",
    "  \n",
    "  -evla EVLA    Latitude: -evla 64.68 \n",
    "  \n",
    "  -evlo EVLO    longitude: -evla -98.2 \n",
    "  \n",
    "  -evdp EVDP    Depth in m: -evdp 1000.0\n",
    "  \n",
    "  -mw MW        Magnitude: -mw 4.9\n",
    "  \n",
    "  -time TIME    Origin time: -time 2014-08-25T16:19:03.00000Z\n",
    "  \n",
    "  -np NP        Number of points per axis: -np 10\n",
    "  \n",
    "  -fb FB        Frequency band for filtering data in seconds (body_waves/surface_waves): -fb 3-15/15-33\n",
    "  \n",
    "  -wl WL        Window length in seconds (body_waves/surface_waves): -wl 30/200\n",
    "  \n",
    "  -ts TS        Time shift limits in seconds (body_waves/surface_waves): -ts 5/15 (means a +/-5s and +/-15s time shift)"
   ]
  },
  {
   "cell_type": "markdown",
   "id": "2a5d12c9-e700-44f6-81ab-6586724cae9b",
   "metadata": {},
   "source": [
    "For the event in this example, a reasonable setup of the MTUQ grid-search could be:\n",
    "\n",
    "***mpirun -np 4 python GridSearch.DoubleCouple_SW_BW_options.py -event 20170903033001760 -evla 41.332401275634766 -evlo 129.02969360351562 -evdp 1000.0 -mw 5.3 -time 2017-09-03T03:30:01.000000Z -np 50 -fb 3-10/30-70 -wl 5/300 -ts 5/15***\n",
    "\n",
    "the **mpirun -np 4** command shows how to run the script in parallel using 4 processes, which could be useful for comprehensive grid-searches (many points per axis). Be sure that your computer supports at least 4 processes. Otherwise, reduce the number of processes or simply omit the mpirun command. \n",
    "\n",
    "If your MTUQ run is worked, execute the next cells for seing the waveform fits and the misfit distribution"
   ]
  },
  {
   "cell_type": "code",
   "execution_count": null,
   "id": "f941252c-6613-4ad8-8ebf-5fe4bb10af33",
   "metadata": {},
   "outputs": [],
   "source": [
    "Image(\"20170903033001760DC_waveforms.png\")"
   ]
  },
  {
   "cell_type": "code",
   "execution_count": null,
   "id": "3e9f3ac9-7f2c-4135-8c36-5043305948ad",
   "metadata": {},
   "outputs": [],
   "source": [
    "Image(\"20170903033001760DC_misfit.png\")"
   ]
  },
  {
   "cell_type": "markdown",
   "id": "4f18dc8a-7f95-4cc2-b829-9e3d7cd4264a",
   "metadata": {},
   "source": [
    "#### 4.3 Full Moment Tensor Grid-Search\n",
    "\n",
    "The **GridSearch.FMT_SW_BW_options.py** works in the same way as the double couple grid search script. However, for a reasonable time run, the number of point-per-axis should be reduced since the number of freedom degrees increases in this case. \n",
    "\n",
    "The following configuration of the MTUQ script should produce a fairy well results:\n",
    "\n",
    "***mpirun -np 4 python GridSearch.FMT_SW_BW_options.py -event 20170903033001760 -evla 41.332401275634766 -evlo 129.02969360351562 -evdp 1000.0 -mw 5.3 -time 2017-09-03T03:30:01.000000Z -np 11 -fb 3-10/30-70 -wl 5/300 -ts 5/15***"
   ]
  },
  {
   "cell_type": "markdown",
   "id": "4ba94c0e-8228-45bf-af02-7c1f8e8c6b87",
   "metadata": {},
   "source": [
    "After running MTUQ, run the next cells to see thE waveform fit and the misfit distribution in the lune-plot. "
   ]
  },
  {
   "cell_type": "code",
   "execution_count": null,
   "id": "f614c5be-b897-49c0-9f8e-e5b1587ae780",
   "metadata": {},
   "outputs": [],
   "source": [
    "Image(\"20170903033001760FMT_waveforms.png\")"
   ]
  },
  {
   "cell_type": "code",
   "execution_count": null,
   "id": "0c91e537-ae4a-47c4-ab95-fa389d3942e8",
   "metadata": {},
   "outputs": [],
   "source": [
    "Image(\"20170903033001760FMT_misfit_mt.png\")"
   ]
  },
  {
   "cell_type": "markdown",
   "id": "aab0e685-3b43-4b96-bed3-a1f902f5838c",
   "metadata": {},
   "source": [
    "Run the next cell if you want to start over"
   ]
  },
  {
   "cell_type": "code",
   "execution_count": null,
   "id": "a8d924ae-f07d-49ab-8e9a-313bfcc8f87a",
   "metadata": {},
   "outputs": [],
   "source": [
    "! rm 20170903033001760DC_*\n",
    "! rm 20170903033001760FMT_*"
   ]
  }
 ],
 "metadata": {
  "kernelspec": {
   "display_name": "Python 3 (ipykernel)",
   "language": "python",
   "name": "python3"
  },
  "language_info": {
   "codemirror_mode": {
    "name": "ipython",
    "version": 3
   },
   "file_extension": ".py",
   "mimetype": "text/x-python",
   "name": "python",
   "nbconvert_exporter": "python",
   "pygments_lexer": "ipython3",
   "version": "3.12.0"
  }
 },
 "nbformat": 4,
 "nbformat_minor": 5
}
